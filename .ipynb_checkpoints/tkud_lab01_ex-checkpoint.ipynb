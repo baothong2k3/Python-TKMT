{
 "cells": [
  {
   "cell_type": "markdown",
   "metadata": {
    "id": "Cj3g7_Xjv0cQ"
   },
   "source": [
    "# Lab 01 - Bài tập"
   ]
  },
  {
   "cell_type": "markdown",
   "metadata": {
    "id": "uHya_O8Nv9Bg"
   },
   "source": [
    "## PYTHON\n",
    "\n",
    "1. Viết chương trình nhập vào số nguyên n (n>0). In ra các số nguyên tố từ 1..n\n"
   ]
  },
  {
   "cell_type": "code",
   "execution_count": 19,
   "metadata": {
    "id": "AnQZ06Hxxwlo",
    "scrolled": true
   },
   "outputs": [
    {
     "name": "stdout",
     "output_type": "stream",
     "text": [
      "-2\n",
      "-1\n",
      "10\n",
      "2\n",
      "3\n",
      "5\n",
      "7\n"
     ]
    }
   ],
   "source": [
    "n = int(input())\n",
    "while n<=0:\n",
    "    n = int(input())\n",
    "if n >= 2:\n",
    "    for i in range(2, n + 1):\n",
    "        flag = 0\n",
    "        for j in range(1, int(i/2) + 1):\n",
    "            if i % j == 0:\n",
    "                flag+=1\n",
    "        if flag == 1:\n",
    "            print(i)"
   ]
  },
  {
   "cell_type": "code",
   "execution_count": null,
   "metadata": {},
   "outputs": [],
   "source": [
    "2. Viết chương trình nhập vào số nguyên n có 3 chữ số. Tính tổng các chữ số của n"
   ]
  },
  {
   "cell_type": "code",
   "execution_count": 12,
   "metadata": {
    "id": "AXOFJ9Iwvtvh"
   },
   "outputs": [
    {
     "name": "stdin",
     "output_type": "stream",
     "text": [
      " 1111\n",
      "Nhap lai n:  999\n"
     ]
    },
    {
     "name": "stdout",
     "output_type": "stream",
     "text": [
      "27\n"
     ]
    }
   ],
   "source": [
    "n = int(input())\n",
    "while int(n/100) > 9 or int(n/100) < 1:\n",
    "    n = int(input(\"Nhap lai n: \"))\n",
    "sum = 0\n",
    "for i in str(n):\n",
    "    sum += int(i)\n",
    "print(sum)\n"
   ]
  },
  {
   "cell_type": "markdown",
   "metadata": {
    "id": "oba6gvmwyFrZ"
   },
   "source": [
    "3. Viết chương trình nhập vào một dãy các số nguyên được cách nhau bởi khoảng trắng (VD: 32 8 4 6 9...) lưu vào python ở dạng mảng. Thực hiện\n",
    "\n",
    "- Xuất mảng\n",
    "- Tính tổng các phần tử của mảng\n",
    "- Tìm số lớn nhất\n",
    "- Tìm số bé nhất\n",
    "- Sắp xếp mảng theo thứ tự giảm dần\n",
    "- In ra các số chẵn trong mảng"
   ]
  },
  {
   "cell_type": "code",
   "execution_count": 50,
   "metadata": {
    "id": "9XBwANmGyFyY"
   },
   "outputs": [
    {
     "name": "stdout",
     "output_type": "stream",
     "text": [
      "1 2 3 4 5 6\n",
      "['1', '2', '3', '4', '5', '6']\n",
      "Tong:  21\n",
      "Min 1\n",
      "Max 6\n",
      "['6', '5', '4', '3', '2', '1']\n",
      "So chan: \n",
      "2\n",
      "4\n",
      "6\n"
     ]
    }
   ],
   "source": [
    "str = input()\n",
    "a = str.split()\n",
    "print(a)\n",
    "tong = 0\n",
    "mi = min(a)\n",
    "ma = max(a)\n",
    "b = sorted(a, reverse=True)\n",
    "for i in a:\n",
    "    tong += int(i)\n",
    "print(\"Tong: \", tong)\n",
    "print(\"Min\", mi)\n",
    "print(\"Max\", ma)\n",
    "print(b)\n",
    "print(\"So chan: \")\n",
    "for i in a:\n",
    "    if int(i)%2==0:\n",
    "        print(i)"
   ]
  },
  {
   "cell_type": "markdown",
   "metadata": {
    "id": "hgGOt_Cxyulx"
   },
   "source": [
    "4. Viết chương trình yêu cầu người dùng nhập họ tên. Hiển thị tên người dùng sau khi đã chuẩn hóa. Biết rằng tên đã chuẩn hóa là:\n",
    "- Ký tự đầu viết hoa\n",
    "- Không có khoảng trắng thừa\n",
    "- Không có ký tự đặc biệt"
   ]
  },
  {
   "cell_type": "code",
   "execution_count": 51,
   "metadata": {
    "id": "duR4BF8Dyu_w"
   },
   "outputs": [
    {
     "name": "stdin",
     "output_type": "stream",
     "text": [
      " Dang###@ ba&o   tho@ng\n"
     ]
    },
    {
     "name": "stdout",
     "output_type": "stream",
     "text": [
      "Dang Bao Thong\n"
     ]
    }
   ],
   "source": [
    "import re\n",
    "b = []\n",
    "str = input()\n",
    "a = str.split()\n",
    "for i in a:\n",
    "    temp = re.sub(r'\\W', '', i)\n",
    "    b.append(temp)\n",
    "c = \" \".join(b)\n",
    "d = c.title()\n",
    "print(d)"
   ]
  },
  {
   "cell_type": "markdown",
   "metadata": {
    "id": "W5KucasA0NSA"
   },
   "source": [
    "5. Viết chương trình nhập vào một số nguyên dương (n>0). Cho biết n có phải là số đối xứng hay không? Biết số đối xứng là số viết xuôi hay viết ngược đều như nhau"
   ]
  },
  {
   "cell_type": "code",
   "execution_count": 72,
   "metadata": {
    "id": "FTH5V3je0YPg"
   },
   "outputs": [
    {
     "name": "stdin",
     "output_type": "stream",
     "text": [
      " 12345666654321\n"
     ]
    },
    {
     "name": "stdout",
     "output_type": "stream",
     "text": [
      "n doi xung\n"
     ]
    }
   ],
   "source": [
    "n = int(input())\n",
    "a = n\n",
    "i = 0\n",
    "while a!=0:\n",
    "    a = int(a/10)\n",
    "    i+=1\n",
    "j = int(i /2)\n",
    "n1 = n//10**j\n",
    "n2 = n%10**j\n",
    "r = 0\n",
    "while n2 > 0:\n",
    "    last = n2 % 10\n",
    "    r = r * 10 + last\n",
    "    n2 //= 10\n",
    "if n1 == r:\n",
    "    print(\"n doi xung\")\n",
    "else:\n",
    "    print(\"n khong doi xung\")"
   ]
  },
  {
   "cell_type": "code",
   "execution_count": null,
   "metadata": {},
   "outputs": [],
   "source": []
  }
 ],
 "metadata": {
  "colab": {
   "authorship_tag": "ABX9TyOelhBBO7DINQ7b3uUiVhbi",
   "provenance": []
  },
  "kernelspec": {
   "display_name": "Python 3 (ipykernel)",
   "language": "python",
   "name": "python3"
  },
  "language_info": {
   "codemirror_mode": {
    "name": "ipython",
    "version": 3
   },
   "file_extension": ".py",
   "mimetype": "text/x-python",
   "name": "python",
   "nbconvert_exporter": "python",
   "pygments_lexer": "ipython3",
   "version": "3.12.1"
  }
 },
 "nbformat": 4,
 "nbformat_minor": 4
}
