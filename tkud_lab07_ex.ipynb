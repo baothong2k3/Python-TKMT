{
 "cells": [
  {
   "cell_type": "markdown",
   "metadata": {},
   "source": [
    "# BÀI TẬP"
   ]
  },
  {
   "cell_type": "markdown",
   "metadata": {},
   "source": [
    "## Kiểm định đặc trưng tỉ lệ (p)"
   ]
  },
  {
   "cell_type": "code",
   "execution_count": 44,
   "metadata": {},
   "outputs": [],
   "source": [
    "import numpy as np\n",
    "import scipy.stats as st\n",
    "import pandas as pd\n",
    "from statsmodels.stats.proportion import proportions_ztest"
   ]
  },
  {
   "cell_type": "markdown",
   "metadata": {},
   "source": [
    "### Bài 1\n",
    "\n",
    "Dataset 18 (__M&M__) chứa thông tin trọng lượng và màu sắc của mẫu các viên kẹo của hãng M&M. \n",
    "\n",
    "Sử dụng mẫu trên bạn hãy kiểm tra phát biểu sau: __\"20% kẹo M&M có màu đỏ\"__ với mức ý nghĩa là 5%\n",
    "\n",
    "*Hướng dẫn: tính tỷ lệ các viên kẹo có màu đỏ từ dữ liệu, sử dụng kết quả để kiểm định phát biểu trên*"
   ]
  },
  {
   "cell_type": "code",
   "execution_count": 45,
   "metadata": {},
   "outputs": [],
   "source": [
    "df = pd.read_excel('./data2/18_M_M.xls')"
   ]
  },
  {
   "cell_type": "code",
   "execution_count": 46,
   "metadata": {},
   "outputs": [
    {
     "name": "stdout",
     "output_type": "stream",
     "text": [
      "p-value: 0.003419741244723991\n"
     ]
    }
   ],
   "source": [
    "red = df['Red'].notnull().sum()\n",
    "total = df.shape[0]\n",
    "null_proportion = 0.20\n",
    "stat, pval = proportions_ztest(red, total, null_proportion)\n",
    "print('p-value:', pval)"
   ]
  },
  {
   "cell_type": "markdown",
   "metadata": {},
   "source": [
    "p-value <  0.05 => bác bỏ H0"
   ]
  },
  {
   "cell_type": "markdown",
   "metadata": {},
   "source": [
    "### Bài 2\n",
    "\n",
    "Dataset 3 (__FRESH15__) chứa thông tin khảo sát những thay đổi về trọng lượng (weight - WT) và chỉ số khối của cơ thể (BMI) của sinh viên năm nhất tại một trường Đại Học. Thời điểm khảo sát là bắt đầu học kỳ (tháng 9 - SEP) và kết thúc học kỳ (tháng 4 - APR), các sinh viên được chọn ngẫu nhiên trong trường.\n",
    "\n",
    "Sử dụng mẫu trên, hãy kiểm tra phát biểu:__\"50% số sinh viên trong trường là nam\"__ với mức ý nghĩa 50%\n",
    "\n",
    "Các thuộc tính trong bộ dữ liệu:\n",
    "- SEX: Giới tính\n",
    "- WTSEP: trọng lượng đo vào tháng 9 (mới nhập học)\n",
    "- WTAPR: trọng lượng đo vào tháng 4 (kết thúc năm học)\n",
    "- BMISP: BMI tháng 9\n",
    "- BMIAP: BMI tháng 4"
   ]
  },
  {
   "cell_type": "code",
   "execution_count": 47,
   "metadata": {},
   "outputs": [
    {
     "data": {
      "text/html": [
       "<div>\n",
       "<style scoped>\n",
       "    .dataframe tbody tr th:only-of-type {\n",
       "        vertical-align: middle;\n",
       "    }\n",
       "\n",
       "    .dataframe tbody tr th {\n",
       "        vertical-align: top;\n",
       "    }\n",
       "\n",
       "    .dataframe thead th {\n",
       "        text-align: right;\n",
       "    }\n",
       "</style>\n",
       "<table border=\"1\" class=\"dataframe\">\n",
       "  <thead>\n",
       "    <tr style=\"text-align: right;\">\n",
       "      <th></th>\n",
       "      <th>SEX</th>\n",
       "      <th>WTSEP</th>\n",
       "      <th>WTAPR</th>\n",
       "      <th>BMISP</th>\n",
       "      <th>BMIAP</th>\n",
       "    </tr>\n",
       "  </thead>\n",
       "  <tbody>\n",
       "    <tr>\n",
       "      <th>0</th>\n",
       "      <td>M</td>\n",
       "      <td>72</td>\n",
       "      <td>59</td>\n",
       "      <td>22.02</td>\n",
       "      <td>18.14</td>\n",
       "    </tr>\n",
       "    <tr>\n",
       "      <th>1</th>\n",
       "      <td>M</td>\n",
       "      <td>97</td>\n",
       "      <td>86</td>\n",
       "      <td>19.70</td>\n",
       "      <td>17.44</td>\n",
       "    </tr>\n",
       "    <tr>\n",
       "      <th>2</th>\n",
       "      <td>M</td>\n",
       "      <td>74</td>\n",
       "      <td>69</td>\n",
       "      <td>24.09</td>\n",
       "      <td>22.43</td>\n",
       "    </tr>\n",
       "    <tr>\n",
       "      <th>3</th>\n",
       "      <td>M</td>\n",
       "      <td>93</td>\n",
       "      <td>88</td>\n",
       "      <td>26.97</td>\n",
       "      <td>25.57</td>\n",
       "    </tr>\n",
       "    <tr>\n",
       "      <th>4</th>\n",
       "      <td>F</td>\n",
       "      <td>68</td>\n",
       "      <td>64</td>\n",
       "      <td>21.51</td>\n",
       "      <td>20.10</td>\n",
       "    </tr>\n",
       "  </tbody>\n",
       "</table>\n",
       "</div>"
      ],
      "text/plain": [
       "  SEX  WTSEP  WTAPR  BMISP  BMIAP\n",
       "0   M     72     59  22.02  18.14\n",
       "1   M     97     86  19.70  17.44\n",
       "2   M     74     69  24.09  22.43\n",
       "3   M     93     88  26.97  25.57\n",
       "4   F     68     64  21.51  20.10"
      ]
     },
     "execution_count": 47,
     "metadata": {},
     "output_type": "execute_result"
    }
   ],
   "source": [
    "df = pd.read_excel('./data2/03_FRESH15.xls')\n",
    "df.head()"
   ]
  },
  {
   "cell_type": "code",
   "execution_count": 48,
   "metadata": {},
   "outputs": [
    {
     "name": "stdout",
     "output_type": "stream",
     "text": [
      "p-value: 0.7137112958040466\n"
     ]
    }
   ],
   "source": [
    "nam = df[df['SEX'] =='M']\n",
    "sonam = nam.shape[0]\n",
    "total = df.shape[0]\n",
    "null_proportion = 0.50\n",
    "stat, pval = proportions_ztest(sonam, total, null_proportion)\n",
    "print('p-value:', pval)"
   ]
  },
  {
   "cell_type": "markdown",
   "metadata": {},
   "source": [
    "p-value > 0.5 => chấp nhận H0"
   ]
  },
  {
   "cell_type": "markdown",
   "metadata": {},
   "source": [
    "### Bài 3\n",
    "\n",
    "Dataset 6(__BEARS__) chứa thông tin khảo sát ngẫu nhiên các con gấu trong một khu rừng.\n",
    "\n",
    "Sử dụng mẫu trên, bạn hãy kiểm tra phát biểu: __\"tỷ lệ gấu đực trong khu rừng là 50%\"\"__ với mức ý nghĩa 90%.\n",
    "\n",
    "Biết rằng thuộc tính SEX có hai giá trị: 1 - gấu đực, 2- gấu cái."
   ]
  },
  {
   "cell_type": "code",
   "execution_count": 49,
   "metadata": {},
   "outputs": [
    {
     "data": {
      "text/html": [
       "<div>\n",
       "<style scoped>\n",
       "    .dataframe tbody tr th:only-of-type {\n",
       "        vertical-align: middle;\n",
       "    }\n",
       "\n",
       "    .dataframe tbody tr th {\n",
       "        vertical-align: top;\n",
       "    }\n",
       "\n",
       "    .dataframe thead th {\n",
       "        text-align: right;\n",
       "    }\n",
       "</style>\n",
       "<table border=\"1\" class=\"dataframe\">\n",
       "  <thead>\n",
       "    <tr style=\"text-align: right;\">\n",
       "      <th></th>\n",
       "      <th>AGE</th>\n",
       "      <th>MONTH</th>\n",
       "      <th>SEX</th>\n",
       "      <th>HEADLEN</th>\n",
       "      <th>HEADWTH</th>\n",
       "      <th>NECK</th>\n",
       "      <th>LENGTH</th>\n",
       "      <th>CHEST</th>\n",
       "      <th>WEIGHT</th>\n",
       "    </tr>\n",
       "  </thead>\n",
       "  <tbody>\n",
       "    <tr>\n",
       "      <th>0</th>\n",
       "      <td>19</td>\n",
       "      <td>7</td>\n",
       "      <td>1</td>\n",
       "      <td>11.0</td>\n",
       "      <td>5.5</td>\n",
       "      <td>16.0</td>\n",
       "      <td>53.0</td>\n",
       "      <td>26.0</td>\n",
       "      <td>80</td>\n",
       "    </tr>\n",
       "    <tr>\n",
       "      <th>1</th>\n",
       "      <td>55</td>\n",
       "      <td>7</td>\n",
       "      <td>1</td>\n",
       "      <td>16.5</td>\n",
       "      <td>9.0</td>\n",
       "      <td>28.0</td>\n",
       "      <td>67.5</td>\n",
       "      <td>45.0</td>\n",
       "      <td>344</td>\n",
       "    </tr>\n",
       "    <tr>\n",
       "      <th>2</th>\n",
       "      <td>81</td>\n",
       "      <td>9</td>\n",
       "      <td>1</td>\n",
       "      <td>15.5</td>\n",
       "      <td>8.0</td>\n",
       "      <td>31.0</td>\n",
       "      <td>72.0</td>\n",
       "      <td>54.0</td>\n",
       "      <td>416</td>\n",
       "    </tr>\n",
       "    <tr>\n",
       "      <th>3</th>\n",
       "      <td>115</td>\n",
       "      <td>7</td>\n",
       "      <td>1</td>\n",
       "      <td>17.0</td>\n",
       "      <td>10.0</td>\n",
       "      <td>31.5</td>\n",
       "      <td>72.0</td>\n",
       "      <td>49.0</td>\n",
       "      <td>348</td>\n",
       "    </tr>\n",
       "    <tr>\n",
       "      <th>4</th>\n",
       "      <td>104</td>\n",
       "      <td>8</td>\n",
       "      <td>2</td>\n",
       "      <td>15.5</td>\n",
       "      <td>6.5</td>\n",
       "      <td>22.0</td>\n",
       "      <td>62.0</td>\n",
       "      <td>35.0</td>\n",
       "      <td>166</td>\n",
       "    </tr>\n",
       "  </tbody>\n",
       "</table>\n",
       "</div>"
      ],
      "text/plain": [
       "   AGE  MONTH  SEX  HEADLEN  HEADWTH  NECK  LENGTH  CHEST  WEIGHT\n",
       "0   19      7    1     11.0      5.5  16.0    53.0   26.0      80\n",
       "1   55      7    1     16.5      9.0  28.0    67.5   45.0     344\n",
       "2   81      9    1     15.5      8.0  31.0    72.0   54.0     416\n",
       "3  115      7    1     17.0     10.0  31.5    72.0   49.0     348\n",
       "4  104      8    2     15.5      6.5  22.0    62.0   35.0     166"
      ]
     },
     "execution_count": 49,
     "metadata": {},
     "output_type": "execute_result"
    }
   ],
   "source": [
    "df = pd.read_excel('./data2/06_BEARS.xls')\n",
    "df.head()"
   ]
  },
  {
   "cell_type": "code",
   "execution_count": 50,
   "metadata": {},
   "outputs": [
    {
     "name": "stdout",
     "output_type": "stream",
     "text": [
      "p-value: 0.02262600290838885\n"
     ]
    }
   ],
   "source": [
    "duc = df[df['SEX'] == 1]\n",
    "soduc = duc.shape[0]\n",
    "total = df.shape[0]\n",
    "null_proportion = 0.50\n",
    "stat, pval = proportions_ztest(soduc, total, null_proportion)\n",
    "print('p-value:', pval)"
   ]
  },
  {
   "cell_type": "markdown",
   "metadata": {},
   "source": [
    "p-value < 0.9 => bác bỏ H0"
   ]
  },
  {
   "cell_type": "markdown",
   "metadata": {},
   "source": [
    "### Bài 4\n",
    "\n",
    "Dataset 9 __(MOVIES)__ chứa thông tin khảo sát một số phim trong khoảng thời gian 33 năm gần đây.\n",
    "\n",
    "Có ý kiến cho rằng: __\"55% các phim trong khoảng thời gian 33 năm gần đây có nhãn R (là phim giới hạn độ tuổi - Restricted)\"__ .Theo bạn với mức ý nghĩa 95% ý kiến trên có đúng không?\n",
    "\n",
    "Tham khảo: [Hệ thống phân loại của hiệp hội điện ảnh Mỹ](https://vi.wikipedia.org/wiki/H%E1%BB%87_th%E1%BB%91ng_ph%C3%A2n_lo%E1%BA%A1i_phim_c%E1%BB%A7a_MPAA#Ph%C3%A2n_lo%E1%BA%A1i_v%E1%BB%9Bi_c%C3%A1c_trailer_phim)"
   ]
  },
  {
   "cell_type": "code",
   "execution_count": 51,
   "metadata": {},
   "outputs": [
    {
     "data": {
      "text/html": [
       "<div>\n",
       "<style scoped>\n",
       "    .dataframe tbody tr th:only-of-type {\n",
       "        vertical-align: middle;\n",
       "    }\n",
       "\n",
       "    .dataframe tbody tr th {\n",
       "        vertical-align: top;\n",
       "    }\n",
       "\n",
       "    .dataframe thead th {\n",
       "        text-align: right;\n",
       "    }\n",
       "</style>\n",
       "<table border=\"1\" class=\"dataframe\">\n",
       "  <thead>\n",
       "    <tr style=\"text-align: right;\">\n",
       "      <th></th>\n",
       "      <th>Title</th>\n",
       "      <th>MPAA</th>\n",
       "      <th>Budget</th>\n",
       "      <th>Gross</th>\n",
       "      <th>Length</th>\n",
       "      <th>Rating</th>\n",
       "    </tr>\n",
       "  </thead>\n",
       "  <tbody>\n",
       "    <tr>\n",
       "      <th>0</th>\n",
       "      <td>8 Mile</td>\n",
       "      <td>R</td>\n",
       "      <td>41.0</td>\n",
       "      <td>117</td>\n",
       "      <td>110</td>\n",
       "      <td>6.7</td>\n",
       "    </tr>\n",
       "    <tr>\n",
       "      <th>1</th>\n",
       "      <td>Alone in the Dark</td>\n",
       "      <td>R</td>\n",
       "      <td>20.0</td>\n",
       "      <td>5</td>\n",
       "      <td>96</td>\n",
       "      <td>2.2</td>\n",
       "    </tr>\n",
       "    <tr>\n",
       "      <th>2</th>\n",
       "      <td>Aviator</td>\n",
       "      <td>PG-13</td>\n",
       "      <td>116.0</td>\n",
       "      <td>103</td>\n",
       "      <td>170</td>\n",
       "      <td>7.6</td>\n",
       "    </tr>\n",
       "    <tr>\n",
       "      <th>3</th>\n",
       "      <td>Big Fish</td>\n",
       "      <td>PG-13</td>\n",
       "      <td>70.0</td>\n",
       "      <td>66</td>\n",
       "      <td>125</td>\n",
       "      <td>8.0</td>\n",
       "    </tr>\n",
       "    <tr>\n",
       "      <th>4</th>\n",
       "      <td>Bourne Identity</td>\n",
       "      <td>PG-13</td>\n",
       "      <td>75.0</td>\n",
       "      <td>121</td>\n",
       "      <td>119</td>\n",
       "      <td>7.4</td>\n",
       "    </tr>\n",
       "  </tbody>\n",
       "</table>\n",
       "</div>"
      ],
      "text/plain": [
       "               Title   MPAA  Budget  Gross  Length  Rating\n",
       "0             8 Mile      R    41.0    117     110     6.7\n",
       "1  Alone in the Dark      R    20.0      5      96     2.2\n",
       "2            Aviator  PG-13   116.0    103     170     7.6\n",
       "3           Big Fish  PG-13    70.0     66     125     8.0\n",
       "4    Bourne Identity  PG-13    75.0    121     119     7.4"
      ]
     },
     "execution_count": 51,
     "metadata": {},
     "output_type": "execute_result"
    }
   ],
   "source": [
    "df = pd.read_excel('./data2/09_MOVIES.xls')\n",
    "df.head()"
   ]
  },
  {
   "cell_type": "code",
   "execution_count": 52,
   "metadata": {},
   "outputs": [
    {
     "name": "stdout",
     "output_type": "stream",
     "text": [
      "p-value: 0.009829517455879086\n"
     ]
    }
   ],
   "source": [
    "r = df[df['MPAA'] == 'R'].shape[0]\n",
    "total = df.shape[0]\n",
    "null_proportion = 0.55\n",
    "stat, pval = proportions_ztest(r, total, null_proportion)\n",
    "print('p-value:', pval)"
   ]
  },
  {
   "cell_type": "markdown",
   "metadata": {},
   "source": [
    "## Kiểm định đặc trưng kỳ vọng ($\\mu$) biết ($\\sigma$)"
   ]
  },
  {
   "cell_type": "markdown",
   "metadata": {},
   "source": [
    "### Bài 5\n",
    "\n",
    "Dataset 13 __(VOLTAGE)__ liệt kê các mức điện áp được đo tại các hộ gia đình bởi các máy đo khác nhau: tại nhà (HOME), tại máy phát độc lập (Generator), tại trạm phát (UPS).\n",
    "\n",
    "Công ty cung cấp điện cho vùng này cam kết rằng: __\"Mục tiêu cung cấp điện cho mỗi hộ gia đình là 120V\"__ . Biết rằng độ lệch chuẩn của tất cả các mức điện áp đo được là 0.24V.\n",
    "\n",
    "Với mức ý nghĩa 1%. Bạn hãy kiểm tra xem công ty có làm đúng cam kết hay không?"
   ]
  },
  {
   "cell_type": "code",
   "execution_count": 53,
   "metadata": {},
   "outputs": [],
   "source": [
    "import pandas as pd\n",
    "from scipy import stats"
   ]
  },
  {
   "cell_type": "code",
   "execution_count": 54,
   "metadata": {},
   "outputs": [
    {
     "data": {
      "text/html": [
       "<div>\n",
       "<style scoped>\n",
       "    .dataframe tbody tr th:only-of-type {\n",
       "        vertical-align: middle;\n",
       "    }\n",
       "\n",
       "    .dataframe tbody tr th {\n",
       "        vertical-align: top;\n",
       "    }\n",
       "\n",
       "    .dataframe thead th {\n",
       "        text-align: right;\n",
       "    }\n",
       "</style>\n",
       "<table border=\"1\" class=\"dataframe\">\n",
       "  <thead>\n",
       "    <tr style=\"text-align: right;\">\n",
       "      <th></th>\n",
       "      <th>Day</th>\n",
       "      <th>Home</th>\n",
       "      <th>Generator</th>\n",
       "      <th>UPS</th>\n",
       "    </tr>\n",
       "  </thead>\n",
       "  <tbody>\n",
       "    <tr>\n",
       "      <th>0</th>\n",
       "      <td>1</td>\n",
       "      <td>123.8</td>\n",
       "      <td>124.8</td>\n",
       "      <td>123.1</td>\n",
       "    </tr>\n",
       "    <tr>\n",
       "      <th>1</th>\n",
       "      <td>2</td>\n",
       "      <td>123.9</td>\n",
       "      <td>124.3</td>\n",
       "      <td>123.1</td>\n",
       "    </tr>\n",
       "    <tr>\n",
       "      <th>2</th>\n",
       "      <td>3</td>\n",
       "      <td>123.9</td>\n",
       "      <td>125.2</td>\n",
       "      <td>123.6</td>\n",
       "    </tr>\n",
       "    <tr>\n",
       "      <th>3</th>\n",
       "      <td>4</td>\n",
       "      <td>123.3</td>\n",
       "      <td>124.5</td>\n",
       "      <td>123.6</td>\n",
       "    </tr>\n",
       "    <tr>\n",
       "      <th>4</th>\n",
       "      <td>5</td>\n",
       "      <td>123.4</td>\n",
       "      <td>125.1</td>\n",
       "      <td>123.6</td>\n",
       "    </tr>\n",
       "  </tbody>\n",
       "</table>\n",
       "</div>"
      ],
      "text/plain": [
       "   Day   Home  Generator    UPS\n",
       "0    1  123.8      124.8  123.1\n",
       "1    2  123.9      124.3  123.1\n",
       "2    3  123.9      125.2  123.6\n",
       "3    4  123.3      124.5  123.6\n",
       "4    5  123.4      125.1  123.6"
      ]
     },
     "execution_count": 54,
     "metadata": {},
     "output_type": "execute_result"
    }
   ],
   "source": [
    "df = pd.read_excel('./data2/13_VOLTAGE.xls')\n",
    "df.head()"
   ]
  },
  {
   "cell_type": "code",
   "execution_count": 55,
   "metadata": {},
   "outputs": [
    {
     "name": "stdout",
     "output_type": "stream",
     "text": [
      "Giới hạn thấp: 123.35263430048161\n",
      "Giới hạn cao: 124.58903236618508\n",
      "Công ty điện lực **không làm đúng** cam kết cung cấp điện áp 120V cho mỗi hộ gia đình với mức ý nghĩa 1%.\n"
     ]
    }
   ],
   "source": [
    "# Lấy dữ liệu điện áp tại nhà\n",
    "voltage_home = (df[\"Home\"] + df[\"Generator\"] + df[\"UPS\"])/3\n",
    "\n",
    "# Tính toán giá trị trung bình điện áp tại nhà\n",
    "mean_home = np.mean(voltage_home)\n",
    "\n",
    "# Tính toán sai số chuẩn\n",
    "std_home = 0.24\n",
    "\n",
    "# Thiết lập giá trị giới hạn với mức ý nghĩa 1%\n",
    "z_score = stats.norm.ppf(0.995)\n",
    "limit_low = mean_home - z_score * std_home\n",
    "limit_high = mean_home + z_score * std_home\n",
    "print(\"Giới hạn thấp:\", limit_low)\n",
    "print(\"Giới hạn cao:\", limit_high)\n",
    "# So sánh giá trị trung bình với cam kết\n",
    "if limit_low <= 120 <= limit_high:\n",
    "    print(f\"Công ty điện lực **có làm đúng** cam kết cung cấp điện áp 120V cho mỗi hộ gia đình với mức ý nghĩa 1%.\")\n",
    "else:\n",
    "    print(f\"Công ty điện lực **không làm đúng** cam kết cung cấp điện áp 120V cho mỗi hộ gia đình với mức ý nghĩa 1%.\")"
   ]
  },
  {
   "cell_type": "markdown",
   "metadata": {},
   "source": [
    "## Kiểm định đặc trưng kỳ vọng ($\\mu$) không biết ($\\sigma$)"
   ]
  },
  {
   "cell_type": "markdown",
   "metadata": {},
   "source": [
    "### Bài 7\n",
    "\n",
    "Dataset 19(__SCREWS__) chứa thông tin khảo sát chiều dài một số đinh ốc được cung cấp bởi công ty Crown Bolt (đơn vị inches)\n",
    "\n",
    "Trên bao bì của các đinh ốc do công ty sản xuất có ghi chiều dài của các đinh ốc là 3/4 inches. Sử dụng mẫu trên bạn hãy cho biết chiều dài của đinh ốc lấy từ mẫu thu nhận được từ dữ liệu trên có nhất quán với chiều dài ghi trên bao bì hay không? Kiểm định với mức ý nghĩa 5%"
   ]
  },
  {
   "cell_type": "code",
   "execution_count": 56,
   "metadata": {},
   "outputs": [
    {
     "name": "stdout",
     "output_type": "stream",
     "text": [
      "p-value: 0.07411353815940823\n"
     ]
    }
   ],
   "source": [
    "import pandas as pd\n",
    "from scipy import stats\n",
    "\n",
    "# Tải dữ liệu\n",
    "df = pd.read_excel('./data2/19_SCREWS.xls', header=None)\n",
    "\n",
    "# Tính giá trị trung bình của chiều dài đinh ốc\n",
    "mean_length = df[0].mean()\n",
    "\n",
    "# Thiết lập giả thuyết null\n",
    "null_mean = 3/4\n",
    "\n",
    "# Thực hiện kiểm định t một mẫu\n",
    "t_stat, pval = stats.ttest_1samp(df[0], null_mean)\n",
    "\n",
    "# In giá trị p\n",
    "print('p-value:', pval)"
   ]
  },
  {
   "cell_type": "markdown",
   "metadata": {},
   "source": [
    "### Bài 8\n",
    "\n",
    "Dataset 13 __(VOLTAGE)__ liệt kê các mức điện áp được đo tại các hộ gia đình bởi các máy đo khác nhau: tại nhà (HOME), tại máy phát độc lập (Generator), tại trạm phát (UPS).\n",
    "\n",
    "Công ty cung cấp điện cho vùng này cam kết rằng: __\"Mục tiêu cung cấp điện cho mỗi hộ gia đình là 120V\"__ .\n",
    "\n",
    "Với mức ý nghĩa 1%. Bạn hãy kiểm tra xem công ty có làm đúng cam kết hay không?"
   ]
  },
  {
   "cell_type": "code",
   "execution_count": 57,
   "metadata": {},
   "outputs": [
    {
     "name": "stdout",
     "output_type": "stream",
     "text": [
      "p-value: 2.4615205404750695e-103\n"
     ]
    }
   ],
   "source": [
    "import pandas as pd\n",
    "from scipy import stats\n",
    "\n",
    "# Tải dữ liệu\n",
    "df = pd.read_excel('./data2/13_VOLTAGE.xls')\n",
    "\n",
    "# Tính giá trị trung bình của các mức điện áp\n",
    "mean_voltage = df[['Home', 'Generator', 'UPS']].values.flatten().mean()\n",
    "#print('mean_voltage:', mean_voltage)\n",
    "# Thiết lập giả thuyết null\n",
    "null_mean = 120\n",
    "#print(df[['Home', 'Generator', 'UPS']].values.flatten())\n",
    "# Thực hiện kiểm định t một mẫu\n",
    "t_stat, pval = stats.ttest_1samp(df[['Home', 'Generator', 'UPS']].values.flatten(), null_mean)\n",
    "\n",
    "# In giá trị p\n",
    "print('p-value:', pval)"
   ]
  },
  {
   "cell_type": "markdown",
   "metadata": {},
   "source": [
    "### Bài 9\n",
    "\n",
    "Dataset 2 __(BODYTEMP)__ chứa thông tin khảo sát nhiệt độ cơ thể từ một nhóm người vào cùng một thời điểm lúc 12h trưa.\n",
    "\n",
    "Có một phát biểu nói rằng, nhiệt độ cơ thể người đo lúc 12h trưa trong quần thể này là 98,6°\n",
    "\n",
    "Dựa vào mẫu trên, bạn hãy cho biết phát biểu trên đúng hay sai ở mức ý nghĩa là 5%."
   ]
  },
  {
   "cell_type": "code",
   "execution_count": 58,
   "metadata": {},
   "outputs": [
    {
     "data": {
      "text/html": [
       "<div>\n",
       "<style scoped>\n",
       "    .dataframe tbody tr th:only-of-type {\n",
       "        vertical-align: middle;\n",
       "    }\n",
       "\n",
       "    .dataframe tbody tr th {\n",
       "        vertical-align: top;\n",
       "    }\n",
       "\n",
       "    .dataframe thead th {\n",
       "        text-align: right;\n",
       "    }\n",
       "</style>\n",
       "<table border=\"1\" class=\"dataframe\">\n",
       "  <thead>\n",
       "    <tr style=\"text-align: right;\">\n",
       "      <th></th>\n",
       "      <th>0</th>\n",
       "    </tr>\n",
       "  </thead>\n",
       "  <tbody>\n",
       "    <tr>\n",
       "      <th>0</th>\n",
       "      <td>98.6</td>\n",
       "    </tr>\n",
       "    <tr>\n",
       "      <th>1</th>\n",
       "      <td>98.6</td>\n",
       "    </tr>\n",
       "    <tr>\n",
       "      <th>2</th>\n",
       "      <td>98.0</td>\n",
       "    </tr>\n",
       "    <tr>\n",
       "      <th>3</th>\n",
       "      <td>98.0</td>\n",
       "    </tr>\n",
       "    <tr>\n",
       "      <th>4</th>\n",
       "      <td>99.0</td>\n",
       "    </tr>\n",
       "  </tbody>\n",
       "</table>\n",
       "</div>"
      ],
      "text/plain": [
       "      0\n",
       "0  98.6\n",
       "1  98.6\n",
       "2  98.0\n",
       "3  98.0\n",
       "4  99.0"
      ]
     },
     "execution_count": 58,
     "metadata": {},
     "output_type": "execute_result"
    }
   ],
   "source": [
    "df = pd.read_excel('./data2/02_BODYTEMP.xls', header=None)\n",
    "df.head()"
   ]
  },
  {
   "cell_type": "code",
   "execution_count": 60,
   "metadata": {},
   "outputs": [
    {
     "name": "stdout",
     "output_type": "stream",
     "text": [
      "Phát biểu 'nhiệt độ cơ thể người đo lúc 12h trưa trong quần thể này là 98,6°' **không đúng** với mức ý nghĩa 5% (p-value = 0.0000).\n"
     ]
    }
   ],
   "source": [
    "import pandas as pd\n",
    "from scipy import stats\n",
    "\n",
    "# Đọc dữ liệu\n",
    "df = pd.read_excel('./data2/02_BODYTEMP.xls', header=None)\n",
    "body_temp = df[0]\n",
    "\n",
    "# Tính toán giá trị trung bình và sai số chuẩn\n",
    "mean_temp = body_temp.mean()\n",
    "std_temp = body_temp.std()\n",
    "\n",
    "# Thiết lập giả thuyết\n",
    "h0 = mean_temp != 98.6\n",
    "h1 = mean_temp == 98.6\n",
    "\n",
    "# Thực hiện kiểm định t-test\n",
    "t_stat, p_value = stats.ttest_1samp(body_temp, 98.6)\n",
    "\n",
    "# So sánh p-value với mức ý nghĩa\n",
    "alpha = 0.05  # Mức ý nghĩa 5%\n",
    "\n",
    "if p_value <= alpha:\n",
    "    print(f\"Phát biểu 'nhiệt độ cơ thể người đo lúc 12h trưa trong quần thể này là 98,6°' **không đúng** với mức ý nghĩa 5% (p-value = {p_value:.4f}).\")\n",
    "else:\n",
    "    print(f\"Phát biểu 'nhiệt độ cơ thể người đo lúc 12h trưa trong quần thể này là 98,6°' **có thể đúng** với mức ý nghĩa 5% (p-value = {p_value:.4f}).\")"
   ]
  },
  {
   "cell_type": "code",
   "execution_count": null,
   "metadata": {},
   "outputs": [
    {
     "name": "stdout",
     "output_type": "stream",
     "text": [
      "Phát biểu 'nhiệt độ cơ thể người đo lúc 12h trưa trong quần thể này là 98,6°' **có đúng** với mức ý nghĩa 5%.\n"
     ]
    }
   ],
   "source": [
    "import pandas as pd\n",
    "from scipy import stats\n",
    "\n",
    "# Đọc dữ liệu\n",
    "df = pd.read_excel('./data2/02_BODYTEMP.xls', header=None)\n",
    "body_temp = df[0]\n",
    "\n",
    "# Tính toán giá trị trung bình và sai số chuẩn\n",
    "mean_temp = body_temp.mean()\n",
    "std_temp = body_temp.std()\n",
    "\n",
    "# Thiết lập giá trị giới hạn\n",
    "z_score = stats.norm.ppf(0.975)  # Tính giá trị z-score cho mức ý nghĩa 5%\n",
    "limit_low = mean_temp - z_score * std_temp\n",
    "limit_high = mean_temp + z_score * std_temp\n",
    "\n",
    "# So sánh giá trị trung bình với phát biểu\n",
    "if limit_low <= 98.6 <= limit_high:\n",
    "    print(f\"Phát biểu 'nhiệt độ cơ thể người đo lúc 12h trưa trong quần thể này là 98,6°' **có đúng** với mức ý nghĩa 5%.\")\n",
    "else:\n",
    "    print(f\"Phát biểu 'nhiệt độ cơ thể người đo lúc 12h trưa trong quần thể này là 98,6°' **không đúng** với mức ý nghĩa 5%.\")"
   ]
  },
  {
   "cell_type": "markdown",
   "metadata": {},
   "source": [
    "### Bài 10\n",
    "\n",
    "__FICO Score__ là đại lượng dùng để đo khả năng tín dụng của một cá nhân hoặc một tập thể. Sử dụng FICO Score, ngân hàng có thể quyết định xem có nên cho khách hàng mượn tiền hay không?\n",
    "\n",
    "Dataset 24 __(FICO)__ chứa thông tin điểm tín dụng (FICO Score) của một số cá nhân trong vùng.\n",
    "\n",
    "Sử dụng dữ liệu mẫu từ, bạn hãy cho biết ý kiến: __\"điểm tín dùng trung bình của quần thể là 678\"__ là đúng hay sai với mức ý nghĩa 5%"
   ]
  },
  {
   "cell_type": "code",
   "execution_count": 63,
   "metadata": {},
   "outputs": [
    {
     "name": "stdout",
     "output_type": "stream",
     "text": [
      "limit_low: 522.3426426746471\n",
      "limit_high: 883.8773573253529\n",
      "Phát biểu 'FICO score trung bình của người dân là 678' **có đúng** với mức ý nghĩa 5%.\n"
     ]
    }
   ],
   "source": [
    "df = pd.read_excel('./data2/24_FICO.xls', header=None)\n",
    "fico = df[0]\n",
    "ficomean = fico.mean()\n",
    "ficostd = fico.std()\n",
    "z_score = stats.norm.ppf(0.975) #5%\n",
    "limit_low = ficomean - z_score * ficostd\n",
    "limit_high = ficomean + z_score * ficostd\n",
    "print('limit_low:', limit_low)\n",
    "print('limit_high:', limit_high)\n",
    "if limit_low <= 678 <= limit_high:\n",
    "    print(f\"Phát biểu 'FICO score trung bình của người dân là 678' **có đúng** với mức ý nghĩa 5%.\")\n",
    "else:\n",
    "    print(f\"Phát biểu 'FICO score trung bình của người dân là 678' **không đúng** với mức ý nghĩa 5%.\")"
   ]
  },
  {
   "cell_type": "markdown",
   "metadata": {},
   "source": [
    "---"
   ]
  }
 ],
 "metadata": {
  "kernelspec": {
   "display_name": "Python 3",
   "language": "python",
   "name": "python3"
  },
  "language_info": {
   "codemirror_mode": {
    "name": "ipython",
    "version": 3
   },
   "file_extension": ".py",
   "mimetype": "text/x-python",
   "name": "python",
   "nbconvert_exporter": "python",
   "pygments_lexer": "ipython3",
   "version": "3.12.1"
  }
 },
 "nbformat": 4,
 "nbformat_minor": 2
}
